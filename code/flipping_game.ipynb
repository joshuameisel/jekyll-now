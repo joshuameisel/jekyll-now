{
 "cells": [
  {
   "cell_type": "code",
   "execution_count": 128,
   "metadata": {},
   "outputs": [],
   "source": [
    "import numpy as np\n",
    "from fractions import Fraction as frac"
   ]
  },
  {
   "cell_type": "code",
   "execution_count": 165,
   "metadata": {},
   "outputs": [],
   "source": [
    "# these are indexed by (flips, points)\n",
    "win_likelihood = {}\n",
    "coin_decisions = {}\n",
    "\n",
    "total_flips = 100\n",
    "\n",
    "# after all the flips win probability is 0 or 1 depending on \n",
    "# if there are positive points\n",
    "for points in range(- 2 * total_flips, 2 * total_flips + 1):\n",
    "    win_likelihood[(total_flips, points)] = frac(int(points > 0))"
   ]
  },
  {
   "cell_type": "code",
   "execution_count": 169,
   "metadata": {},
   "outputs": [],
   "source": [
    "for flips in reversed(range(total_flips)):\n",
    "    for points in range(-2 * flips, 2 * flips + 1):\n",
    "        betting_1_likelihood = frac(1, 2) * (win_likelihood[(flips + 1, points - 1)] + \\\n",
    "                                  win_likelihood[(flips + 1, points + 1)])\n",
    "        betting_2_likelihood = frac(1, 2) * (win_likelihood[(flips + 1, points - 2)] + \\\n",
    "                                  win_likelihood[(flips + 1, points + 2)])\n",
    "        \n",
    "        # in the case of a tie we'll keep the pattern bet 1 if and only \n",
    "        # you have positive points\n",
    "        if betting_1_likelihood > betting_2_likelihood or (\n",
    "            betting_1_likelihood == betting_2_likelihood and points > 0):\n",
    "            win_likelihood[(flips, points)] = betting_1_likelihood\n",
    "            coin_decisions[(flips, points)] = 1\n",
    "        else:\n",
    "            win_likelihood[(flips, points)] = betting_2_likelihood\n",
    "            coin_decisions[(flips, points)] = 2"
   ]
  },
  {
   "cell_type": "code",
   "execution_count": 167,
   "metadata": {},
   "outputs": [
    {
     "data": {
      "text/plain": [
       "0.6403174472759772"
      ]
     },
     "execution_count": 167,
     "metadata": {},
     "output_type": "execute_result"
    }
   ],
   "source": [
    "float(win_likelihood[(0, 0)])"
   ]
  },
  {
   "cell_type": "code",
   "execution_count": 177,
   "metadata": {},
   "outputs": [
    {
     "data": {
      "text/plain": [
       "0"
      ]
     },
     "execution_count": 177,
     "metadata": {},
     "output_type": "execute_result"
    }
   ],
   "source": [
    "anomalies = 0\n",
    "for flips, points in coin_decisions:\n",
    "    if points > 0 and coin_decisions[flips, points] != 1:\n",
    "        anomalies += 1\n",
    "    elif points <= 0 and coin_decisions[flips, points] != 2:\n",
    "        anomalies += 1\n",
    "        \n",
    "anomalies"
   ]
  }
 ],
 "metadata": {
  "kernelspec": {
   "display_name": "Python 3",
   "language": "python",
   "name": "python3"
  },
  "language_info": {
   "codemirror_mode": {
    "name": "ipython",
    "version": 3
   },
   "file_extension": ".py",
   "mimetype": "text/x-python",
   "name": "python",
   "nbconvert_exporter": "python",
   "pygments_lexer": "ipython3",
   "version": "3.6.5"
  }
 },
 "nbformat": 4,
 "nbformat_minor": 2
}
